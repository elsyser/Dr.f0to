{
 "cells": [
  {
   "cell_type": "code",
   "execution_count": 1,
   "metadata": {},
   "outputs": [
    {
     "name": "stderr",
     "output_type": "stream",
     "text": [
      "Using TensorFlow backend.\n",
      "17-02-2019:09:21:04,969 DEBUG    [__init__.py:415] CACHEDIR=/Users/victor/.matplotlib\n",
      "17-02-2019:09:21:04,972 DEBUG    [font_manager.py:1362] Using fontManager instance from /Users/victor/.matplotlib/fontlist-v300.json\n",
      "17-02-2019:09:21:05,144 DEBUG    [pyplot.py:211] Loaded backend module://ipykernel.pylab.backend_inline version unknown.\n",
      "17-02-2019:09:21:05,147 DEBUG    [pyplot.py:211] Loaded backend module://ipykernel.pylab.backend_inline version unknown.\n",
      "17-02-2019:09:21:05,155 DEBUG    [pyplot.py:211] Loaded backend module://ipykernel.pylab.backend_inline version unknown.\n"
     ]
    }
   ],
   "source": [
    "from fer import fer\n",
    "import cv2\n",
    "from deepface import dataloader\n",
    "\n",
    "import matplotlib.pyplot as plt\n",
    "%matplotlib inline"
   ]
  },
  {
   "cell_type": "code",
   "execution_count": 2,
   "metadata": {},
   "outputs": [
    {
     "name": "stderr",
     "output_type": "stream",
     "text": [
      "17-02-2019:09:21:08,211 DEBUG    [fer.py:112] Emotion model: /Users/victor/.local/share/virtualenvs/deep-face-cjQm5pzF/lib/python3.6/site-packages/fer/data/emotion_model.hdf5\n"
     ]
    }
   ],
   "source": [
    "detector = fer.FER()"
   ]
  },
  {
   "cell_type": "code",
   "execution_count": 3,
   "metadata": {},
   "outputs": [],
   "source": [
    "data = cv2.imread('./out.jpg')"
   ]
  },
  {
   "cell_type": "code",
   "execution_count": 4,
   "metadata": {},
   "outputs": [
    {
     "data": {
      "text/plain": [
       "(48, 48, 3)"
      ]
     },
     "execution_count": 4,
     "metadata": {},
     "output_type": "execute_result"
    }
   ],
   "source": [
    "data.shape"
   ]
  },
  {
   "cell_type": "code",
   "execution_count": 8,
   "metadata": {},
   "outputs": [
    {
     "data": {
      "text/plain": [
       "[]"
      ]
     },
     "execution_count": 8,
     "metadata": {},
     "output_type": "execute_result"
    }
   ],
   "source": [
    "detector.detect_emotions(data)"
   ]
  },
  {
   "cell_type": "code",
   "execution_count": null,
   "metadata": {},
   "outputs": [],
   "source": []
  },
  {
   "cell_type": "code",
   "execution_count": 7,
   "metadata": {},
   "outputs": [
    {
     "data": {
      "text/plain": [
       "<matplotlib.image.AxesImage at 0x1457f52e8>"
      ]
     },
     "execution_count": 7,
     "metadata": {},
     "output_type": "execute_result"
    },
    {
     "name": "stderr",
     "output_type": "stream",
     "text": [
      "17-02-2019:09:21:40,841 DEBUG    [_base.py:2515] update_title_pos\n",
      "17-02-2019:09:21:40,855 DEBUG    [font_manager.py:1254] findfont: Matching :family=sans-serif:style=normal:variant=normal:weight=normal:stretch=normal:size=10.0 to DejaVu Sans ('/Users/victor/.local/share/virtualenvs/deep-face-cjQm5pzF/lib/python3.6/site-packages/matplotlib/mpl-data/fonts/ttf/DejaVuSans.ttf') with score of 0.050000.\n",
      "17-02-2019:09:21:40,885 DEBUG    [_base.py:2515] update_title_pos\n",
      "17-02-2019:09:21:40,925 DEBUG    [_base.py:2515] update_title_pos\n",
      "17-02-2019:09:21:40,953 DEBUG    [_base.py:2515] update_title_pos\n",
      "17-02-2019:09:21:40,969 DEBUG    [_base.py:2515] update_title_pos\n"
     ]
    },
    {
     "data": {
      "image/png": "[encoded data removed]",
      "text/plain": [
       "<Figure size 432x288 with 1 Axes>"
      ]
     },
     "metadata": {
      "needs_background": "light"
     },
     "output_type": "display_data"
    }
   ],
   "source": [
    "plt.imshow(data)"
   ]
  },
  {
   "cell_type": "code",
   "execution_count": null,
   "metadata": {},
   "outputs": [],
   "source": []
  }
 ],
 "metadata": {
  "kernelspec": {
   "display_name": "Python 3",
   "language": "python",
   "name": "python3"
  },
  "language_info": {
   "codemirror_mode": {
    "name": "ipython",
    "version": 3
   },
   "file_extension": ".py",
   "mimetype": "text/x-python",
   "name": "python",
   "nbconvert_exporter": "python",
   "pygments_lexer": "ipython3",
   "version": "3.6.8"
  }
 },
 "nbformat": 4,
 "nbformat_minor": 2
}

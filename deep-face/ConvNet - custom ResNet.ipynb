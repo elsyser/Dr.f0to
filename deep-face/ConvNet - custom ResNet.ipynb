{
 "cells": [
  {
   "cell_type": "code",
   "execution_count": 72,
   "metadata": {},
   "outputs": [],
   "source": [
    "import numpy as np\n",
    "import tensorflow as tf\n",
    "\n",
    "from tensorflow.keras.models import Model\n",
    "from tensorflow.keras.layers import (\n",
    "    Input, Conv2D, BatchNormalization, Activation, MaxPool2D,\n",
    "    Dropout, Flatten, Dense, Add\n",
    ")\n",
    "\n",
    "import matplotlib.pyplot as plt\n",
    "%matplotlib inline\n",
    "\n",
    "from deepface import dataloader"
   ]
  },
  {
   "cell_type": "markdown",
   "metadata": {},
   "source": [
    "## The FER Dataset (Train / Dev / Test sets)"
   ]
  },
  {
   "cell_type": "code",
   "execution_count": 73,
   "metadata": {},
   "outputs": [],
   "source": [
    "train, dev, test = dataloader.train_dev_test_sets()"
   ]
  },
  {
   "cell_type": "code",
   "execution_count": 74,
   "metadata": {},
   "outputs": [
    {
     "name": "stdout",
     "output_type": "stream",
     "text": [
      "Train set size: 28709\n",
      "Dev set size: 3589\n",
      "Test set size: 3589\n",
      "\n",
      "Image shape: (48, 48, 1)\n",
      "Number of classes: 7\n",
      "Classes: ['Angry', 'Disgust', 'Fear', 'Happy', 'Sad', 'Surprise', 'Neutral']\n",
      "\n"
     ]
    }
   ],
   "source": [
    "print(f'Train set size: {len(train[0])}')\n",
    "print(f'Dev set size: {len(dev[0])}')\n",
    "print(f'Test set size: {len(test[0])}')\n",
    "print()\n",
    "\n",
    "print(f'Image shape: {dataloader.IMG_SHAPE}')\n",
    "print(f'Number of classes: {len(dataloader.LABELS_MAP.values())}')\n",
    "print(f'Classes: {list(dataloader.LABELS_MAP.values())}')\n",
    "print()"
   ]
  },
  {
   "cell_type": "markdown",
   "metadata": {},
   "source": [
    "### Identity Residual Block"
   ]
  },
  {
   "cell_type": "code",
   "execution_count": 112,
   "metadata": {},
   "outputs": [],
   "source": [
    "def identity_resblock(X, filters=[], f=3):\n",
    "    F1, F2 = filters\n",
    "    \n",
    "    # Save the input\n",
    "    X_input = X\n",
    "    \n",
    "    # Conv2d - 1\n",
    "    X = Conv2D(F1, kernel_size=[f, f], strides=[1, 1], padding='same')(X)\n",
    "    X = BatchNormalization(axis=3)(X)\n",
    "    X = Activation('relu')(X)\n",
    "    \n",
    "    # Conv2d - 2\n",
    "    X = Conv2D(F2, kernel_size=[f, f], strides=[1, 1], padding='same')(X)\n",
    "    X = BatchNormalization(axis=3)(X)\n",
    "    \n",
    "    # Merge\n",
    "    X = Add()([X, X_input])\n",
    "    X = Activation('relu')(X)\n",
    "    \n",
    "    return X"
   ]
  },
  {
   "cell_type": "markdown",
   "metadata": {},
   "source": [
    "### Convolution Residual Block"
   ]
  },
  {
   "cell_type": "code",
   "execution_count": 113,
   "metadata": {},
   "outputs": [],
   "source": [
    "def conv_resblock(X, filters=[], f=3, s=2):\n",
    "    F1, F2 = filters\n",
    "    \n",
    "    # Save the input\n",
    "    X_input = X\n",
    "    \n",
    "    # Conv2d - 1\n",
    "    X = Conv2D(F1, kernel_size=[1, 1], strides=[1, 1], padding='same')(X)\n",
    "    X = BatchNormalization(axis=3)(X)\n",
    "    X = Activation('relu')(X)\n",
    "    \n",
    "    # Conv2d - 2\n",
    "    X = Conv2D(F2, kernel_size=[f, f], strides=[s, s], padding='valid')(X)\n",
    "    X = BatchNormalization(axis=3)(X)\n",
    "    \n",
    "    # Res Connection\n",
    "    X_input = Conv2D(F2, kernel_size=[f, f], strides=[s, s], padding='valid')(X_input)\n",
    "    X = BatchNormalization(axis=3)(X)\n",
    "    \n",
    "    # Merge\n",
    "    X = Add()([X, X_input])\n",
    "    X = Activation('relu')(X)\n",
    "    \n",
    "    return X"
   ]
  },
  {
   "cell_type": "code",
   "execution_count": 120,
   "metadata": {},
   "outputs": [],
   "source": [
    "def init_model():\n",
    "    # Input\n",
    "    X_input = Input(shape=dataloader.IMG_SHAPE)\n",
    "    \n",
    "    X = conv_resblock(X_input, filters=[8, 8], f=3, s=2)\n",
    "    X = identity_resblock(X_input, filters=[8, 16], f=3)\n",
    "    X = identity_resblock(X_input, filters=[16, 16], f=3)\n",
    "    \n",
    "    X = conv_resblock(X, filters=[32, 32], f=5, s=2)\n",
    "    X = identity_resblock(X_input, filters=[32, 64], f=7)\n",
    "    X = identity_resblock(X_input, filters=[64, 64], f=7)\n",
    "    \n",
    "    X = Flatten()(X)\n",
    "    \n",
    "    X = Dense(units=100, activation='relu')(X)\n",
    "    X = Dense(units=len(dataloader.LABELS_MAP.values()), activation='softmax')(X)\n",
    "    \n",
    "    return Model(inputs=X_input, outputs=X)"
   ]
  },
  {
   "cell_type": "code",
   "execution_count": 121,
   "metadata": {},
   "outputs": [],
   "source": [
    "model = init_model()"
   ]
  },
  {
   "cell_type": "code",
   "execution_count": 122,
   "metadata": {},
   "outputs": [],
   "source": [
    "optmizer = tf.train.AdamOptimizer(0.0001)\n",
    "model.compile(optmizer, loss=tf.keras.losses.categorical_crossentropy, metrics=['accuracy'])"
   ]
  },
  {
   "cell_type": "code",
   "execution_count": 124,
   "metadata": {},
   "outputs": [],
   "source": [
    "model.fit(x=train[0], y=train[1], batch_size=128, epochs=5,\n",
    "          callbacks=[tf.keras.callbacks.ReduceLROnPlateau()])"
   ]
  },
  {
   "cell_type": "code",
   "execution_count": null,
   "metadata": {},
   "outputs": [],
   "source": []
  }
 ],
 "metadata": {
  "kernelspec": {
   "display_name": "Python 3",
   "language": "python",
   "name": "python3"
  },
  "language_info": {
   "codemirror_mode": {
    "name": "ipython",
    "version": 3
   },
   "file_extension": ".py",
   "mimetype": "text/x-python",
   "name": "python",
   "nbconvert_exporter": "python",
   "pygments_lexer": "ipython3",
   "version": "3.6.8"
  }
 },
 "nbformat": 4,
 "nbformat_minor": 2
}

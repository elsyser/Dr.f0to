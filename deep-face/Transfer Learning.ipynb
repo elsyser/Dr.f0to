{
 "cells": [
  {
   "cell_type": "code",
   "execution_count": 1,
   "metadata": {},
   "outputs": [],
   "source": [
    "import tensorflow as tf\n",
    "\n",
    "from deepface import dataloader\n",
    "from deepface.neuralnets import TransferLearning"
   ]
  },
  {
   "cell_type": "markdown",
   "metadata": {},
   "source": [
    "## Load The Data"
   ]
  },
  {
   "cell_type": "code",
   "execution_count": 2,
   "metadata": {},
   "outputs": [],
   "source": [
    "train, dev, test = dataloader.train_dev_test_sets()"
   ]
  },
  {
   "cell_type": "code",
   "execution_count": 3,
   "metadata": {},
   "outputs": [
    {
     "name": "stdout",
     "output_type": "stream",
     "text": [
      "Train set size: 28709\n",
      "Dev set size: 3589\n",
      "Test set size: 3589\n",
      "\n",
      "Image shape: (48, 48, 1)\n",
      "Number of classes: 7\n",
      "Classes: ['Angry', 'Disgust', 'Fear', 'Happy', 'Sad', 'Surprise', 'Neutral']\n",
      "\n"
     ]
    }
   ],
   "source": [
    "print(f'Train set size: {len(train[0])}')\n",
    "print(f'Dev set size: {len(dev[0])}')\n",
    "print(f'Test set size: {len(test[0])}')\n",
    "print()\n",
    "\n",
    "print(f'Image shape: {dataloader.IMG_SHAPE}')\n",
    "print(f'Number of classes: {len(dataloader.LABELS_MAP.values())}')\n",
    "print(f'Classes: {list(dataloader.LABELS_MAP.values())}')\n",
    "print()"
   ]
  },
  {
   "cell_type": "code",
   "execution_count": null,
   "metadata": {},
   "outputs": [],
   "source": []
  },
  {
   "cell_type": "code",
   "execution_count": 4,
   "metadata": {},
   "outputs": [
    {
     "name": "stderr",
     "output_type": "stream",
     "text": [
      "/Users/victor/.local/share/virtualenvs/deep-face-cjQm5pzF/lib/python3.6/site-packages/keras_applications/resnet50.py:265: UserWarning: The output shape of `ResNet50(include_top=False)` has been changed since Keras 2.2.0.\n",
      "  warnings.warn('The output shape of `ResNet50(include_top=False)` '\n"
     ]
    }
   ],
   "source": [
    "trans_learn = TransferLearning('resnet50', num_bottom_layers_to_keep=0)"
   ]
  },
  {
   "cell_type": "code",
   "execution_count": 15,
   "metadata": {},
   "outputs": [],
   "source": [
    "trans_learn.model.compile(\n",
    "    optimizer=tf.train.RMSPropOptimizer(0.003),\n",
    "    loss=tf.keras.losses.categorical_crossentropy,\n",
    "    metrics=[tf.keras.metrics.categorical_accuracy]\n",
    ")\n",
    "\n",
    "trans_learn.model.fit(\n",
    "    train[0][:10_000],\n",
    "    train[1][:10_000],\n",
    "    \n",
    "    batch_size=32,\n",
    "    epochs=50,\n",
    "    \n",
    "    callbacks=[\n",
    "        tf.keras.callbacks.ReduceLROnPlateau(),\n",
    "    ]\n",
    ")"
   ]
  },
  {
   "cell_type": "code",
   "execution_count": null,
   "metadata": {},
   "outputs": [],
   "source": []
  }
 ],
 "metadata": {
  "kernelspec": {
   "display_name": "Python 3",
   "language": "python",
   "name": "python3"
  },
  "language_info": {
   "codemirror_mode": {
    "name": "ipython",
    "version": 3
   },
   "file_extension": ".py",
   "mimetype": "text/x-python",
   "name": "python",
   "nbconvert_exporter": "python",
   "pygments_lexer": "ipython3",
   "version": "3.6.8"
  }
 },
 "nbformat": 4,
 "nbformat_minor": 2
}
